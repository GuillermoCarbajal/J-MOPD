{
  "cells": [
    {
      "cell_type": "markdown",
      "metadata": {
        "id": "view-in-github",
        "colab_type": "text"
      },
      "source": [
        "<a href=\"https://colab.research.google.com/github/GuillermoCarbajal/J-MOPD/blob/main/J-MOPD_demo.ipynb\" target=\"_parent\"><img src=\"https://colab.research.google.com/assets/colab-badge.svg\" alt=\"Open In Colab\"/></a>"
      ]
    },
    {
      "cell_type": "markdown",
      "metadata": {
        "ExecuteTime": {
          "end_time": "2023-01-16T18:24:16.316501Z",
          "start_time": "2023-01-16T18:24:16.313009Z"
        },
        "id": "UeuyqEHv3neb"
      },
      "source": [
        "# Joint Motion Offset Prediction and Deblurring (J-MOPD) demo"
      ]
    },
    {
      "cell_type": "markdown",
      "metadata": {
        "ExecuteTime": {
          "end_time": "2023-01-16T18:29:06.215255Z",
          "start_time": "2023-01-16T18:29:06.208625Z"
        },
        "id": "aIo6nhrs3nei"
      },
      "source": [
        "## Clone the repo"
      ]
    },
    {
      "cell_type": "code",
      "execution_count": 5,
      "metadata": {
        "ExecuteTime": {
          "end_time": "2023-10-06T14:47:52.370313Z",
          "start_time": "2023-10-06T14:47:48.375261Z"
        },
        "colab": {
          "base_uri": "https://localhost:8080/"
        },
        "id": "oK1DpfPS3nek",
        "outputId": "3bbbd4c9-b27f-414a-e665-75963cd8a668"
      },
      "outputs": [
        {
          "output_type": "stream",
          "name": "stdout",
          "text": [
            "Cloning into 'J-MOPD'...\n",
            "remote: Enumerating objects: 42, done.\u001b[K\n",
            "remote: Counting objects: 100% (42/42), done.\u001b[K\n",
            "remote: Compressing objects: 100% (35/35), done.\u001b[K\n",
            "remote: Total 42 (delta 8), reused 30 (delta 3), pack-reused 0 (from 0)\u001b[K\n",
            "Receiving objects: 100% (42/42), 1.09 MiB | 21.46 MiB/s, done.\n",
            "Resolving deltas: 100% (8/8), done.\n",
            "/content/J-MOPD/J-MOPD\n"
          ]
        }
      ],
      "source": [
        "!git clone https://github.com/GuillermoCarbajal/J-MOPD.git\n",
        "%cd J-MOPD"
      ]
    },
    {
      "cell_type": "markdown",
      "metadata": {
        "id": "sL1mSTwX3nen"
      },
      "source": [
        "## Setup the environment"
      ]
    },
    {
      "cell_type": "code",
      "execution_count": 6,
      "metadata": {
        "ExecuteTime": {
          "end_time": "2023-10-06T14:56:09.395055Z",
          "start_time": "2023-10-06T14:56:08.333464Z"
        },
        "colab": {
          "base_uri": "https://localhost:8080/"
        },
        "id": "jkXOSc4C3neo",
        "outputId": "aafb3942-de88-41dd-ba20-8d36bc9b3a1f"
      },
      "outputs": [
        {
          "output_type": "stream",
          "name": "stdout",
          "text": [
            "Requirement already satisfied: torch==1.11 in /usr/local/lib/python3.10/dist-packages (from -r requirements.txt (line 1)) (1.11.0)\n",
            "Requirement already satisfied: torchvision==0.12.0 in /usr/local/lib/python3.10/dist-packages (from -r requirements.txt (line 2)) (0.12.0)\n",
            "Requirement already satisfied: numpy in /usr/local/lib/python3.10/dist-packages (from -r requirements.txt (line 3)) (1.26.4)\n",
            "Requirement already satisfied: opencv-python in /usr/local/lib/python3.10/dist-packages (from -r requirements.txt (line 4)) (4.10.0.84)\n",
            "Requirement already satisfied: matplotlib in /usr/local/lib/python3.10/dist-packages (from -r requirements.txt (line 5)) (3.8.0)\n",
            "Requirement already satisfied: scikit-image in /usr/local/lib/python3.10/dist-packages (from -r requirements.txt (line 6)) (0.24.0)\n",
            "Requirement already satisfied: gdown in /usr/local/lib/python3.10/dist-packages (from -r requirements.txt (line 7)) (5.2.0)\n",
            "Requirement already satisfied: kornia in /usr/local/lib/python3.10/dist-packages (from -r requirements.txt (line 8)) (0.7.4)\n",
            "Requirement already satisfied: typing-extensions in /usr/local/lib/python3.10/dist-packages (from torch==1.11->-r requirements.txt (line 1)) (4.12.2)\n",
            "Requirement already satisfied: requests in /usr/local/lib/python3.10/dist-packages (from torchvision==0.12.0->-r requirements.txt (line 2)) (2.32.3)\n",
            "Requirement already satisfied: pillow!=8.3.*,>=5.3.0 in /usr/local/lib/python3.10/dist-packages (from torchvision==0.12.0->-r requirements.txt (line 2)) (11.0.0)\n",
            "Requirement already satisfied: contourpy>=1.0.1 in /usr/local/lib/python3.10/dist-packages (from matplotlib->-r requirements.txt (line 5)) (1.3.1)\n",
            "Requirement already satisfied: cycler>=0.10 in /usr/local/lib/python3.10/dist-packages (from matplotlib->-r requirements.txt (line 5)) (0.12.1)\n",
            "Requirement already satisfied: fonttools>=4.22.0 in /usr/local/lib/python3.10/dist-packages (from matplotlib->-r requirements.txt (line 5)) (4.55.2)\n",
            "Requirement already satisfied: kiwisolver>=1.0.1 in /usr/local/lib/python3.10/dist-packages (from matplotlib->-r requirements.txt (line 5)) (1.4.7)\n",
            "Requirement already satisfied: packaging>=20.0 in /usr/local/lib/python3.10/dist-packages (from matplotlib->-r requirements.txt (line 5)) (24.2)\n",
            "Requirement already satisfied: pyparsing>=2.3.1 in /usr/local/lib/python3.10/dist-packages (from matplotlib->-r requirements.txt (line 5)) (3.2.0)\n",
            "Requirement already satisfied: python-dateutil>=2.7 in /usr/local/lib/python3.10/dist-packages (from matplotlib->-r requirements.txt (line 5)) (2.8.2)\n",
            "Requirement already satisfied: scipy>=1.9 in /usr/local/lib/python3.10/dist-packages (from scikit-image->-r requirements.txt (line 6)) (1.13.1)\n",
            "Requirement already satisfied: networkx>=2.8 in /usr/local/lib/python3.10/dist-packages (from scikit-image->-r requirements.txt (line 6)) (3.4.2)\n",
            "Requirement already satisfied: imageio>=2.33 in /usr/local/lib/python3.10/dist-packages (from scikit-image->-r requirements.txt (line 6)) (2.36.1)\n",
            "Requirement already satisfied: tifffile>=2022.8.12 in /usr/local/lib/python3.10/dist-packages (from scikit-image->-r requirements.txt (line 6)) (2024.9.20)\n",
            "Requirement already satisfied: lazy-loader>=0.4 in /usr/local/lib/python3.10/dist-packages (from scikit-image->-r requirements.txt (line 6)) (0.4)\n",
            "Requirement already satisfied: beautifulsoup4 in /usr/local/lib/python3.10/dist-packages (from gdown->-r requirements.txt (line 7)) (4.12.3)\n",
            "Requirement already satisfied: filelock in /usr/local/lib/python3.10/dist-packages (from gdown->-r requirements.txt (line 7)) (3.16.1)\n",
            "Requirement already satisfied: tqdm in /usr/local/lib/python3.10/dist-packages (from gdown->-r requirements.txt (line 7)) (4.66.6)\n",
            "Requirement already satisfied: kornia-rs>=0.1.0 in /usr/local/lib/python3.10/dist-packages (from kornia->-r requirements.txt (line 8)) (0.1.7)\n",
            "Requirement already satisfied: six>=1.5 in /usr/local/lib/python3.10/dist-packages (from python-dateutil>=2.7->matplotlib->-r requirements.txt (line 5)) (1.17.0)\n",
            "Requirement already satisfied: soupsieve>1.2 in /usr/local/lib/python3.10/dist-packages (from beautifulsoup4->gdown->-r requirements.txt (line 7)) (2.6)\n",
            "Requirement already satisfied: charset-normalizer<4,>=2 in /usr/local/lib/python3.10/dist-packages (from requests->torchvision==0.12.0->-r requirements.txt (line 2)) (3.4.0)\n",
            "Requirement already satisfied: idna<4,>=2.5 in /usr/local/lib/python3.10/dist-packages (from requests->torchvision==0.12.0->-r requirements.txt (line 2)) (3.10)\n",
            "Requirement already satisfied: urllib3<3,>=1.21.1 in /usr/local/lib/python3.10/dist-packages (from requests->torchvision==0.12.0->-r requirements.txt (line 2)) (2.2.3)\n",
            "Requirement already satisfied: certifi>=2017.4.17 in /usr/local/lib/python3.10/dist-packages (from requests->torchvision==0.12.0->-r requirements.txt (line 2)) (2024.8.30)\n",
            "Requirement already satisfied: PySocks!=1.5.7,>=1.5.6 in /usr/local/lib/python3.10/dist-packages (from requests[socks]->gdown->-r requirements.txt (line 7)) (1.7.1)\n"
          ]
        }
      ],
      "source": [
        "!pip install -r 'requirements.txt'"
      ]
    },
    {
      "cell_type": "markdown",
      "metadata": {
        "id": "FUZSEIxYiywI"
      },
      "source": [
        "## Download pretrained models"
      ]
    },
    {
      "cell_type": "code",
      "execution_count": 7,
      "metadata": {
        "ExecuteTime": {
          "end_time": "2023-10-06T14:52:42.506199Z",
          "start_time": "2023-10-06T14:52:42.491473Z"
        },
        "colab": {
          "base_uri": "https://localhost:8080/",
          "height": 211
        },
        "id": "DiElLLM2HS4D",
        "outputId": "d7785500-6e3b-47d2-e3d0-693364070181"
      },
      "outputs": [
        {
          "output_type": "stream",
          "name": "stderr",
          "text": [
            "Downloading...\n",
            "From: http://iie.fing.edu.uy/~carbajal/J-MOPD/crop320/camera_shake_epoch50_epoch35_epoch40_epoch70_epoch70_epoch60_epoch4_epoch30_epoch15_epoch30_epoch30_epoch30_epoch30_epoch27_epoch27_epoch27.pkl\n",
            "To: /content/J-MOPD/J-MOPD/pretrained_models/camera_shake_epoch50_epoch35_epoch40_epoch70_epoch70_epoch60_epoch4_epoch30_epoch15_epoch30_epoch30_epoch30_epoch30_epoch27_epoch27_epoch27.pkl\n",
            "100%|██████████| 4.69M/4.69M [00:01<00:00, 2.47MB/s]\n",
            "Downloading...\n",
            "From: http://iie.fing.edu.uy/~carbajal/J-MOPD/crop320/camera_shake_epoch50_epoch35_epoch40_epoch70_epoch70_epoch60_epoch4_epoch30_epoch15_epoch30_epoch30_epoch30_epoch30_epoch27_epoch27_epoch27_G.pkl\n",
            "To: /content/J-MOPD/J-MOPD/pretrained_models/camera_shake_epoch50_epoch35_epoch40_epoch70_epoch70_epoch60_epoch4_epoch30_epoch15_epoch30_epoch30_epoch30_epoch30_epoch27_epoch27_epoch27_G.pkl\n",
            "100%|██████████| 68.1M/68.1M [00:07<00:00, 8.81MB/s]\n"
          ]
        },
        {
          "output_type": "execute_result",
          "data": {
            "text/plain": [
              "'./pretrained_models/camera_shake_epoch50_epoch35_epoch40_epoch70_epoch70_epoch60_epoch4_epoch30_epoch15_epoch30_epoch30_epoch30_epoch30_epoch27_epoch27_epoch27_G.pkl'"
            ],
            "application/vnd.google.colaboratory.intrinsic+json": {
              "type": "string"
            }
          },
          "metadata": {},
          "execution_count": 7
        }
      ],
      "source": [
        "import gdown\n",
        "gdown.download('http://iie.fing.edu.uy/~carbajal/J-MOPD/crop320/camera_shake_epoch50_epoch35_epoch40_epoch70_epoch70_epoch60_epoch4_epoch30_epoch15_epoch30_epoch30_epoch30_epoch30_epoch27_epoch27_epoch27.pkl', \"./pretrained_models/\", quiet=False)\n",
        "gdown.download('http://iie.fing.edu.uy/~carbajal/J-MOPD/crop320/camera_shake_epoch50_epoch35_epoch40_epoch70_epoch70_epoch60_epoch4_epoch30_epoch15_epoch30_epoch30_epoch30_epoch30_epoch27_epoch27_epoch27_G.pkl', \"./pretrained_models/\", quiet=False)"
      ]
    },
    {
      "cell_type": "code",
      "execution_count": null,
      "metadata": {
        "id": "LJ46_zyoO2pW"
      },
      "outputs": [],
      "source": []
    },
    {
      "cell_type": "code",
      "execution_count": 9,
      "metadata": {
        "id": "RhLav75OMNJW"
      },
      "outputs": [],
      "source": [
        "import torch\n",
        "from skimage.io import imread\n",
        "from skimage.transform import rescale\n",
        "from utils.homographies import compute_intrinsics, generate_video, get_offsets_from_positions, \\\n",
        "                               save_kernels_from_offsets, show_kernels_from_offsets_on_blurry_image, save_motion_flow, reblur_offsets\n",
        "import numpy as np\n",
        "#from models.network_nimbusr_pmbm import NIMBUSR_PMBM as net\n",
        "from models.network_nimbusr_offsets import NIMBUSR_Offsets as net_nimbusr_offsets\n",
        "\n",
        "from utils.visualization import save_image, tensor2im, save_video, sort_positions, show_positions_found\n",
        "import os\n",
        "import argparse\n",
        "from models.CameraShakeModel_OffsetNet import OffsetNet_quad as OffsetsNet\n",
        "import json\n",
        "from PIL import Image\n",
        "import cv2"
      ]
    },
    {
      "cell_type": "markdown",
      "metadata": {
        "id": "KkoenR76DU9-"
      },
      "source": [
        "## Offsets Computation"
      ]
    },
    {
      "cell_type": "code",
      "execution_count": 17,
      "metadata": {
        "ExecuteTime": {
          "end_time": "2023-01-22T19:28:41.067494Z",
          "start_time": "2023-01-22T19:28:41.008424Z"
        },
        "id": "JpDopxdPDP4s",
        "outputId": "749364df-7f5b-4e1e-b6f8-e85f407cf6f0",
        "colab": {
          "base_uri": "https://localhost:8080/"
        }
      },
      "outputs": [
        {
          "output_type": "stream",
          "name": "stdout",
          "text": [
            "cuda is not available\n"
          ]
        },
        {
          "output_type": "execute_result",
          "data": {
            "text/plain": [
              "OffsetNet_quad(\n",
              "  (pad_1): ReflectionPad2d((1, 2, 1, 2))\n",
              "  (todepth): SpaceToDepth()\n",
              "  (conv_1): Sequential(\n",
              "    (0): ReflectionPad2d((2, 2, 2, 2))\n",
              "    (1): Conv2d(12, 16, kernel_size=(5, 5), stride=(1, 1))\n",
              "    (2): ReLU(inplace=True)\n",
              "    (3): Sequential(\n",
              "      (0): ResnetBlock_woNorm(\n",
              "        (conv_block): Sequential(\n",
              "          (0): ReplicationPad2d((2, 2, 2, 2))\n",
              "          (1): Conv2d(16, 16, kernel_size=(5, 5), stride=(1, 1))\n",
              "          (2): ReLU(inplace=True)\n",
              "          (3): ReplicationPad2d((2, 2, 2, 2))\n",
              "          (4): Conv2d(16, 16, kernel_size=(5, 5), stride=(1, 1))\n",
              "        )\n",
              "      )\n",
              "      (1): ResnetBlock_woNorm(\n",
              "        (conv_block): Sequential(\n",
              "          (0): ReplicationPad2d((2, 2, 2, 2))\n",
              "          (1): Conv2d(16, 16, kernel_size=(5, 5), stride=(1, 1))\n",
              "          (2): ReLU(inplace=True)\n",
              "          (3): ReplicationPad2d((2, 2, 2, 2))\n",
              "          (4): Conv2d(16, 16, kernel_size=(5, 5), stride=(1, 1))\n",
              "        )\n",
              "      )\n",
              "      (2): ResnetBlock_woNorm(\n",
              "        (conv_block): Sequential(\n",
              "          (0): ReplicationPad2d((2, 2, 2, 2))\n",
              "          (1): Conv2d(16, 16, kernel_size=(5, 5), stride=(1, 1))\n",
              "          (2): ReLU(inplace=True)\n",
              "          (3): ReplicationPad2d((2, 2, 2, 2))\n",
              "          (4): Conv2d(16, 16, kernel_size=(5, 5), stride=(1, 1))\n",
              "        )\n",
              "      )\n",
              "    )\n",
              "  )\n",
              "  (conv_2): Sequential(\n",
              "    (0): ReflectionPad2d((1, 2, 1, 2))\n",
              "    (1): Conv2d(16, 32, kernel_size=(5, 5), stride=(2, 2))\n",
              "    (2): ReLU(inplace=True)\n",
              "    (3): Sequential(\n",
              "      (0): ResnetBlock_woNorm(\n",
              "        (conv_block): Sequential(\n",
              "          (0): ReplicationPad2d((2, 2, 2, 2))\n",
              "          (1): Conv2d(32, 32, kernel_size=(5, 5), stride=(1, 1))\n",
              "          (2): ReLU(inplace=True)\n",
              "          (3): ReplicationPad2d((2, 2, 2, 2))\n",
              "          (4): Conv2d(32, 32, kernel_size=(5, 5), stride=(1, 1))\n",
              "        )\n",
              "      )\n",
              "      (1): ResnetBlock_woNorm(\n",
              "        (conv_block): Sequential(\n",
              "          (0): ReplicationPad2d((2, 2, 2, 2))\n",
              "          (1): Conv2d(32, 32, kernel_size=(5, 5), stride=(1, 1))\n",
              "          (2): ReLU(inplace=True)\n",
              "          (3): ReplicationPad2d((2, 2, 2, 2))\n",
              "          (4): Conv2d(32, 32, kernel_size=(5, 5), stride=(1, 1))\n",
              "        )\n",
              "      )\n",
              "      (2): ResnetBlock_woNorm(\n",
              "        (conv_block): Sequential(\n",
              "          (0): ReplicationPad2d((2, 2, 2, 2))\n",
              "          (1): Conv2d(32, 32, kernel_size=(5, 5), stride=(1, 1))\n",
              "          (2): ReLU(inplace=True)\n",
              "          (3): ReplicationPad2d((2, 2, 2, 2))\n",
              "          (4): Conv2d(32, 32, kernel_size=(5, 5), stride=(1, 1))\n",
              "        )\n",
              "      )\n",
              "    )\n",
              "  )\n",
              "  (conv_3): Sequential(\n",
              "    (0): ReflectionPad2d((1, 2, 1, 2))\n",
              "    (1): Conv2d(32, 64, kernel_size=(5, 5), stride=(2, 2))\n",
              "    (2): ReLU(inplace=True)\n",
              "    (3): Sequential(\n",
              "      (0): ResnetBlock_woNorm(\n",
              "        (conv_block): Sequential(\n",
              "          (0): ReplicationPad2d((2, 2, 2, 2))\n",
              "          (1): Conv2d(64, 64, kernel_size=(5, 5), stride=(1, 1))\n",
              "          (2): ReLU(inplace=True)\n",
              "          (3): ReplicationPad2d((2, 2, 2, 2))\n",
              "          (4): Conv2d(64, 64, kernel_size=(5, 5), stride=(1, 1))\n",
              "        )\n",
              "      )\n",
              "      (1): ResnetBlock_woNorm(\n",
              "        (conv_block): Sequential(\n",
              "          (0): ReplicationPad2d((2, 2, 2, 2))\n",
              "          (1): Conv2d(64, 64, kernel_size=(5, 5), stride=(1, 1))\n",
              "          (2): ReLU(inplace=True)\n",
              "          (3): ReplicationPad2d((2, 2, 2, 2))\n",
              "          (4): Conv2d(64, 64, kernel_size=(5, 5), stride=(1, 1))\n",
              "        )\n",
              "      )\n",
              "      (2): ResnetBlock_woNorm(\n",
              "        (conv_block): Sequential(\n",
              "          (0): ReplicationPad2d((2, 2, 2, 2))\n",
              "          (1): Conv2d(64, 64, kernel_size=(5, 5), stride=(1, 1))\n",
              "          (2): ReLU(inplace=True)\n",
              "          (3): ReplicationPad2d((2, 2, 2, 2))\n",
              "          (4): Conv2d(64, 64, kernel_size=(5, 5), stride=(1, 1))\n",
              "        )\n",
              "      )\n",
              "    )\n",
              "  )\n",
              "  (bottleneck_1): Bottleneck(\n",
              "    (conv1): Conv2d(64, 128, kernel_size=(1, 1), stride=(1, 1))\n",
              "    (lReLU1): LeakyReLU(negative_slope=0.2, inplace=True)\n",
              "    (conv2): Conv2d(128, 64, kernel_size=(3, 3), stride=(1, 1), padding=(1, 1))\n",
              "    (lReLU2): LeakyReLU(negative_slope=0.2, inplace=True)\n",
              "    (model): Sequential(\n",
              "      (0): Conv2d(64, 128, kernel_size=(1, 1), stride=(1, 1))\n",
              "      (1): LeakyReLU(negative_slope=0.2, inplace=True)\n",
              "      (2): Conv2d(128, 64, kernel_size=(3, 3), stride=(1, 1), padding=(1, 1))\n",
              "      (3): LeakyReLU(negative_slope=0.2, inplace=True)\n",
              "    )\n",
              "  )\n",
              "  (uconv_1): ConvTranspose2d(64, 32, kernel_size=(4, 4), stride=(2, 2), padding=(1, 1))\n",
              "  (bottleneck_2): Bottleneck(\n",
              "    (conv1): Conv2d(64, 128, kernel_size=(1, 1), stride=(1, 1))\n",
              "    (lReLU1): LeakyReLU(negative_slope=0.2, inplace=True)\n",
              "    (conv2): Conv2d(128, 64, kernel_size=(3, 3), stride=(1, 1), padding=(1, 1))\n",
              "    (lReLU2): LeakyReLU(negative_slope=0.2, inplace=True)\n",
              "    (model): Sequential(\n",
              "      (0): Conv2d(64, 128, kernel_size=(1, 1), stride=(1, 1))\n",
              "      (1): LeakyReLU(negative_slope=0.2, inplace=True)\n",
              "      (2): Conv2d(128, 64, kernel_size=(3, 3), stride=(1, 1), padding=(1, 1))\n",
              "      (3): LeakyReLU(negative_slope=0.2, inplace=True)\n",
              "    )\n",
              "  )\n",
              "  (uconv_2): ConvTranspose2d(64, 16, kernel_size=(4, 4), stride=(2, 2), padding=(1, 1))\n",
              "  (bottleneck_3): Bottleneck(\n",
              "    (conv1): Conv2d(32, 64, kernel_size=(1, 1), stride=(1, 1))\n",
              "    (lReLU1): LeakyReLU(negative_slope=0.2, inplace=True)\n",
              "    (conv2): Conv2d(64, 32, kernel_size=(3, 3), stride=(1, 1), padding=(1, 1))\n",
              "    (lReLU2): LeakyReLU(negative_slope=0.2, inplace=True)\n",
              "    (model): Sequential(\n",
              "      (0): Conv2d(32, 64, kernel_size=(1, 1), stride=(1, 1))\n",
              "      (1): LeakyReLU(negative_slope=0.2, inplace=True)\n",
              "      (2): Conv2d(64, 32, kernel_size=(3, 3), stride=(1, 1), padding=(1, 1))\n",
              "      (3): LeakyReLU(negative_slope=0.2, inplace=True)\n",
              "    )\n",
              "  )\n",
              "  (uconv_3): ConvTranspose2d(32, 32, kernel_size=(4, 4), stride=(2, 2), padding=(1, 1))\n",
              "  (conv_out_0): Conv2d(32, 50, kernel_size=(5, 5), stride=(1, 1), padding=(2, 2))\n",
              ")"
            ]
          },
          "metadata": {},
          "execution_count": 17
        }
      ],
      "source": [
        "#input_image = 'testing_imgs/0316.png'\n",
        "input_image ='testing_imgs/manmade_01_gyro_01.png'\n",
        "camera_model_file = 'pretrained_models/camera_shake_epoch50_epoch35_epoch40_epoch70_epoch70_epoch60_epoch4_epoch30_epoch15_epoch30_epoch30_epoch30_epoch30_epoch27_epoch27_epoch27.pkl'\n",
        "\n",
        "n_positions= 25 # number of positions estimated by the network\n",
        "if torch.cuda.is_available():\n",
        "  offsets_net = OffsetsNet(n_offset=n_positions,offset_mode='raw').cuda()\n",
        "  state_dict = torch.load(camera_model_file )\n",
        "else:\n",
        "  offsets_net = OffsetsNet(n_offset=n_positions,offset_mode='raw').to('cpu')\n",
        "  state_dict = torch.load(camera_model_file, map_location=torch.device('cpu') )\n",
        "  print('cuda is not available')\n",
        "\n",
        "\n",
        "offsets_net.load_state_dict(state_dict)\n",
        "offsets_net.eval()"
      ]
    },
    {
      "cell_type": "code",
      "execution_count": 18,
      "metadata": {
        "id": "KZ-apJxWL6Zu"
      },
      "outputs": [],
      "source": [
        "def compute_offsets(input_file, offsets_net, output_dir='testing_results',\n",
        "                       gamma_factor=1.0, save_video=False):\n",
        "\n",
        "  n_positions= 25 # number of positions estimated by the network\n",
        "  if not os.path.exists(output_dir):\n",
        "      os.makedirs(output_dir)\n",
        "\n",
        "  img_name = input_file.split('/')[-1]\n",
        "  img_name, ext = img_name.split('.')\n",
        "\n",
        "  print('loading image ',input_file)\n",
        "  blurry_image = imread(input_file)/255.0\n",
        "\n",
        "  # Blurry image is transformed to pytorch format\n",
        "  if torch.cuda.is_available():\n",
        "    blurry_tensor = torch.from_numpy(blurry_image).permute(2,0,1)[None].cuda().float()\n",
        "  else:\n",
        "    blurry_tensor = torch.from_numpy(blurry_image).permute(2,0,1)[None].float()\n",
        "\n",
        "  _, C,H,W = blurry_tensor.shape\n",
        "\n",
        "  # Kernels and masks are estimated\n",
        "  blurry_tensor_to_compute_kernels = blurry_tensor**gamma_factor - 0.5\n",
        "\n",
        "\n",
        "  with torch.no_grad():\n",
        "      blurry_tensor_ph = blurry_tensor**gamma_factor\n",
        "      offsets = offsets_net(blurry_tensor_ph - 0.5)\n",
        "      offsets = offsets[:,:,:H,:W]\n",
        "      blurry_tensor = blurry_tensor[:,:,:H,:W]\n",
        "\n",
        "\n",
        "  offsets = offsets.reshape(1,2*n_positions, H,W)\n",
        "  offsets_BT=None\n",
        "\n",
        "\n",
        "  kernels_file = os.path.join(output_dir, img_name + '_kernels_found.png' )\n",
        "\n",
        "\n",
        "  show_kernels_from_offsets_on_blurry_image(blurry_tensor[0],offsets[0].reshape(n_positions,2,H,W), kernels_file)\n",
        "  print('Kernels saved in ',os.path.join(output_dir, img_name + '_kernels.png') )\n"
      ]
    },
    {
      "cell_type": "code",
      "execution_count": 19,
      "metadata": {
        "id": "tLTU_G1tLb-X",
        "outputId": "48e3f1f7-8fd7-4a04-b9d4-482a273c5177",
        "colab": {
          "base_uri": "https://localhost:8080/",
          "height": 547
        }
      },
      "outputs": [
        {
          "output_type": "stream",
          "name": "stdout",
          "text": [
            "loading image  testing_imgs/manmade_01_gyro_01.png\n"
          ]
        },
        {
          "output_type": "error",
          "ename": "RuntimeError",
          "evalue": "Found no NVIDIA driver on your system. Please check that you have an NVIDIA GPU and installed a driver from http://www.nvidia.com/Download/index.aspx",
          "traceback": [
            "\u001b[0;31m---------------------------------------------------------------------------\u001b[0m",
            "\u001b[0;31mRuntimeError\u001b[0m                              Traceback (most recent call last)",
            "\u001b[0;32m<ipython-input-19-7d9e18fe1944>\u001b[0m in \u001b[0;36m<cell line: 1>\u001b[0;34m()\u001b[0m\n\u001b[0;32m----> 1\u001b[0;31m \u001b[0mcompute_offsets\u001b[0m\u001b[0;34m(\u001b[0m\u001b[0minput_image\u001b[0m\u001b[0;34m,\u001b[0m \u001b[0moffsets_net\u001b[0m\u001b[0;34m)\u001b[0m\u001b[0;34m\u001b[0m\u001b[0;34m\u001b[0m\u001b[0m\n\u001b[0m",
            "\u001b[0;32m<ipython-input-18-64c0e91498ba>\u001b[0m in \u001b[0;36mcompute_offsets\u001b[0;34m(input_file, offsets_net, output_dir, gamma_factor, save_video)\u001b[0m\n\u001b[1;32m     38\u001b[0m \u001b[0;34m\u001b[0m\u001b[0m\n\u001b[1;32m     39\u001b[0m \u001b[0;34m\u001b[0m\u001b[0m\n\u001b[0;32m---> 40\u001b[0;31m   \u001b[0mshow_kernels_from_offsets_on_blurry_image\u001b[0m\u001b[0;34m(\u001b[0m\u001b[0mblurry_tensor\u001b[0m\u001b[0;34m[\u001b[0m\u001b[0;36m0\u001b[0m\u001b[0;34m]\u001b[0m\u001b[0;34m,\u001b[0m\u001b[0moffsets\u001b[0m\u001b[0;34m[\u001b[0m\u001b[0;36m0\u001b[0m\u001b[0;34m]\u001b[0m\u001b[0;34m.\u001b[0m\u001b[0mreshape\u001b[0m\u001b[0;34m(\u001b[0m\u001b[0mn_positions\u001b[0m\u001b[0;34m,\u001b[0m\u001b[0;36m2\u001b[0m\u001b[0;34m,\u001b[0m\u001b[0mH\u001b[0m\u001b[0;34m,\u001b[0m\u001b[0mW\u001b[0m\u001b[0;34m)\u001b[0m\u001b[0;34m,\u001b[0m \u001b[0mkernels_file\u001b[0m\u001b[0;34m)\u001b[0m\u001b[0;34m\u001b[0m\u001b[0;34m\u001b[0m\u001b[0m\n\u001b[0m\u001b[1;32m     41\u001b[0m   \u001b[0mprint\u001b[0m\u001b[0;34m(\u001b[0m\u001b[0;34m'Kernels saved in '\u001b[0m\u001b[0;34m,\u001b[0m\u001b[0mos\u001b[0m\u001b[0;34m.\u001b[0m\u001b[0mpath\u001b[0m\u001b[0;34m.\u001b[0m\u001b[0mjoin\u001b[0m\u001b[0;34m(\u001b[0m\u001b[0moutput_dir\u001b[0m\u001b[0;34m,\u001b[0m \u001b[0mimg_name\u001b[0m \u001b[0;34m+\u001b[0m \u001b[0;34m'_kernels.png'\u001b[0m\u001b[0;34m)\u001b[0m \u001b[0;34m)\u001b[0m\u001b[0;34m\u001b[0m\u001b[0;34m\u001b[0m\u001b[0m\n",
            "\u001b[0;32m/content/J-MOPD/J-MOPD/utils/homographies.py\u001b[0m in \u001b[0;36mshow_kernels_from_offsets_on_blurry_image\u001b[0;34m(blurry, offsets, output_name)\u001b[0m\n\u001b[1;32m    312\u001b[0m     \u001b[0;32mif\u001b[0m \u001b[0mkh\u001b[0m\u001b[0;34m==\u001b[0m\u001b[0;36m5\u001b[0m\u001b[0;34m:\u001b[0m\u001b[0;34m\u001b[0m\u001b[0;34m\u001b[0m\u001b[0m\n\u001b[1;32m    313\u001b[0m         \u001b[0moff0\u001b[0m \u001b[0;34m=\u001b[0m \u001b[0minitial_offset_5x5\u001b[0m\u001b[0;34m(\u001b[0m\u001b[0;34m)\u001b[0m\u001b[0;34m\u001b[0m\u001b[0;34m\u001b[0m\u001b[0m\n\u001b[0;32m--> 314\u001b[0;31m         \u001b[0mp\u001b[0m \u001b[0;34m=\u001b[0m \u001b[0mtorch\u001b[0m\u001b[0;34m.\u001b[0m\u001b[0mreshape\u001b[0m\u001b[0;34m(\u001b[0m\u001b[0moff0\u001b[0m\u001b[0;34m,\u001b[0m\u001b[0;34m(\u001b[0m\u001b[0;36m1\u001b[0m\u001b[0;34m,\u001b[0m\u001b[0;36m2\u001b[0m\u001b[0;34m*\u001b[0m\u001b[0mkh\u001b[0m\u001b[0;34m*\u001b[0m\u001b[0mkw\u001b[0m\u001b[0;34m,\u001b[0m\u001b[0;36m1\u001b[0m\u001b[0;34m,\u001b[0m\u001b[0;36m1\u001b[0m\u001b[0;34m)\u001b[0m\u001b[0;34m)\u001b[0m\u001b[0;34m.\u001b[0m\u001b[0mcuda\u001b[0m\u001b[0;34m(\u001b[0m\u001b[0;34m)\u001b[0m\u001b[0;34m\u001b[0m\u001b[0;34m\u001b[0m\u001b[0m\n\u001b[0m\u001b[1;32m    315\u001b[0m     \u001b[0;32melif\u001b[0m \u001b[0mkh\u001b[0m\u001b[0;34m==\u001b[0m\u001b[0;36m7\u001b[0m\u001b[0;34m:\u001b[0m\u001b[0;34m\u001b[0m\u001b[0;34m\u001b[0m\u001b[0m\n\u001b[1;32m    316\u001b[0m         \u001b[0moff0\u001b[0m\u001b[0;34m=\u001b[0m\u001b[0minitial_offset_7x7\u001b[0m\u001b[0;34m(\u001b[0m\u001b[0;34m)\u001b[0m\u001b[0;34m\u001b[0m\u001b[0;34m\u001b[0m\u001b[0m\n",
            "\u001b[0;32m/usr/local/lib/python3.10/dist-packages/torch/cuda/__init__.py\u001b[0m in \u001b[0;36m_lazy_init\u001b[0;34m()\u001b[0m\n\u001b[1;32m    214\u001b[0m         \u001b[0;31m# This function throws if there's a driver initialization error, no GPUs\u001b[0m\u001b[0;34m\u001b[0m\u001b[0;34m\u001b[0m\u001b[0m\n\u001b[1;32m    215\u001b[0m         \u001b[0;31m# are found or any other error occurs\u001b[0m\u001b[0;34m\u001b[0m\u001b[0;34m\u001b[0m\u001b[0m\n\u001b[0;32m--> 216\u001b[0;31m         \u001b[0mtorch\u001b[0m\u001b[0;34m.\u001b[0m\u001b[0m_C\u001b[0m\u001b[0;34m.\u001b[0m\u001b[0m_cuda_init\u001b[0m\u001b[0;34m(\u001b[0m\u001b[0;34m)\u001b[0m\u001b[0;34m\u001b[0m\u001b[0;34m\u001b[0m\u001b[0m\n\u001b[0m\u001b[1;32m    217\u001b[0m         \u001b[0;31m# Some of the queued calls may reentrantly call _lazy_init();\u001b[0m\u001b[0;34m\u001b[0m\u001b[0;34m\u001b[0m\u001b[0m\n\u001b[1;32m    218\u001b[0m         \u001b[0;31m# we need to just return without initializing in that case.\u001b[0m\u001b[0;34m\u001b[0m\u001b[0;34m\u001b[0m\u001b[0m\n",
            "\u001b[0;31mRuntimeError\u001b[0m: Found no NVIDIA driver on your system. Please check that you have an NVIDIA GPU and installed a driver from http://www.nvidia.com/Download/index.aspx"
          ]
        }
      ],
      "source": [
        "compute_offsets(input_image, offsets_net)"
      ]
    },
    {
      "cell_type": "markdown",
      "metadata": {
        "id": "ZPel3cx0d6oU"
      },
      "source": [
        "## Image Deblurring"
      ]
    },
    {
      "cell_type": "code",
      "execution_count": null,
      "metadata": {
        "ExecuteTime": {
          "end_time": "2023-01-22T19:35:21.360409Z",
          "start_time": "2023-01-22T19:35:21.340336Z"
        },
        "id": "a-ngjPshgDXy"
      },
      "outputs": [],
      "source": [
        "#from models.network_nimbusr_pmbm import NIMBUSR_PMBM as net\n",
        "from models.network_nimbusr_offsets import NIMBUSR_Offsets as net_nimbusr_offsets"
      ]
    },
    {
      "cell_type": "code",
      "execution_count": null,
      "metadata": {
        "id": "2pEBZZENfmfb"
      },
      "outputs": [],
      "source": [
        "def load_nimbusr_net(type='offsets'):\n",
        "    opt_net = { \"n_iter\": 8\n",
        "        , \"h_nc\": 64\n",
        "        , \"in_nc\": 4 #2 if args.gray else 4 #4\n",
        "        , \"out_nc\":3 #1 if args.gray else 3 #3\n",
        "        #, \"ksize\": 25\n",
        "        , \"nc\": [64, 128, 256, 512]\n",
        "        , \"nb\": 2\n",
        "        , \"gc\": 32\n",
        "        , \"ng\": 2\n",
        "        , \"reduction\" : 16\n",
        "        , \"act_mode\": \"R\"\n",
        "        , \"upsample_mode\": \"convtranspose\"\n",
        "        , \"downsample_mode\": \"strideconv\"}\n",
        "\n",
        "    path_pretrained = args.restoration_network #r'../model_zoo/NIMBUSR.pth'\n",
        "\n",
        "    if type=='pmbm':\n",
        "        netG = net(n_iter=opt_net['n_iter'],\n",
        "                    h_nc=opt_net['h_nc'],\n",
        "                    in_nc=opt_net['in_nc'],\n",
        "                    out_nc=opt_net['out_nc'],\n",
        "                    nc=opt_net['nc'],\n",
        "                    nb=opt_net['nb'],\n",
        "                    act_mode=opt_net['act_mode'],\n",
        "                    downsample_mode=opt_net['downsample_mode'],\n",
        "                    upsample_mode=opt_net['upsample_mode']\n",
        "                    )\n",
        "    elif type=='offsets':\n",
        "        netG = net_nimbusr_offsets(n_iter=opt_net['n_iter'],\n",
        "            h_nc=opt_net['h_nc'],\n",
        "            in_nc=opt_net['in_nc'],\n",
        "            out_nc=opt_net['out_nc'],\n",
        "            nc=opt_net['nc'],\n",
        "            nb=opt_net['nb'],\n",
        "            act_mode=opt_net['act_mode'],\n",
        "            downsample_mode=opt_net['downsample_mode'],\n",
        "            upsample_mode=opt_net['upsample_mode']\n",
        "            )\n",
        "\n",
        "    if os.path.exists(path_pretrained):\n",
        "        print('Loading model for G [{:s}] ...'.format(path_pretrained))\n",
        "        netG.load_state_dict(torch.load(path_pretrained))\n",
        "    else:\n",
        "        print('Model does not exists')\n",
        "\n",
        "    netG = netG.to('cuda')\n",
        "\n",
        "    return netG\n"
      ]
    },
    {
      "cell_type": "code",
      "execution_count": null,
      "metadata": {
        "id": "eM_qzywkgOpy"
      },
      "outputs": [],
      "source": [
        "def restore_images(input_file, reblur_model, output_folder='testing_results', gamma_factor=1.0,\n",
        "                   resize_factor=1, network_type='nimbusr_sat', focal_length=-1, save_video=False):\n",
        "\n",
        "  n_positions= 25 # number of positions estimated by the network\n",
        "  if not os.path.exists(output_folder):\n",
        "      os.makedirs(output_folder)\n",
        "\n",
        "  img_name = input_file.split('/')[-1]\n",
        "  img_name, ext = img_name.split('.')\n",
        "\n",
        "  print('loading image ',input_file)\n",
        "  blurry_image = imread(input_file)\n",
        "\n",
        "  # Blurry image is transformed to pytorch format\n",
        "  transform = transforms.Compose([\n",
        "      transforms.ToTensor()\n",
        "  ])\n",
        "  blurry_tensor = transform(blurry_image).cuda()\n",
        "\n",
        "  _, C,H,W = blurry_tensor.shape\n",
        "\n",
        "  # Kernels and masks are estimated\n",
        "  blurry_tensor_to_compute_kernels = blurry_tensor**gamma_factor - 0.5\n",
        "\n",
        "\n",
        "  if focal_length > 0:\n",
        "      f = torch.Tensor([focal_length]).to(blurry_tensor.device)\n",
        "      #f = torch.Tensor([float(max(H,W))]).to(tensor_img.device)\n",
        "      intrinsics = torch.Tensor([[f, 0, W/2],[0, f, H/2], [0, 0, 1] ]).cuda(blurry_tensor.device)\n",
        "      intrinsics = intrinsics[None,:,:]\n",
        "  else:\n",
        "      intrinsics = compute_intrinsics(W,H).cuda(blurry_tensor.device)[None]\n",
        "      f =  torch.Tensor([max(H,W)]).to(blurry_tensor.device)\n",
        "\n",
        "      #focal_channel = f/maximo * torch.ones(N,1,H,W).to(tensor_img.device)\n",
        "      #cam_input = torch.concat((focal_channel, tensor_img), dim=1)\n",
        "\n",
        "  # get positions\n",
        "  camera_positions = camera_model(blurry_tensor - 0.5,f)\n",
        "\n",
        "  order = sort_positions(camera_positions[0])\n",
        "  camera_positions[0] = camera_positions[0,order,:]\n",
        "\n",
        "  offsets = get_offsets_from_positions(blurry_tensor.shape, camera_positions, intrinsics)\n",
        "  offsets = offsets.reshape(1,2*n_positions, H,W)\n",
        "  offsets_BT=None\n",
        "\n",
        "\n",
        "  netG = load_nimbusr_net('offsets')\n",
        "  netG.eval()\n",
        "  noise_level = 0.01\n",
        "  noise_level = torch.FloatTensor([noise_level]).view(1,1,1).cuda(blurry_tensor.device)\n",
        "\n",
        "  output = netG(blurry_tensor, offsets, 1, sigma=noise_level[None,:], offsets_BT=offsets_BT)\n",
        "\n",
        "\n",
        "  output_img = tensor2im(torch.clamp(output[0].detach(),0,1) - 0.5)\n",
        "  save_image(output_img, os.path.join(output_folder, img_name + '_PMBM.png' ))\n",
        "\n",
        "  found_positions_np = camera_positions[0].detach().cpu().numpy()\n",
        "  np.savetxt(os.path.join(output_folder,f'{img_name}_found_positions.txt'), found_positions_np)\n",
        "  pose = np.zeros((found_positions_np.shape[0], 6))\n",
        "  pose[:, 3:] = found_positions_np\n",
        "\n",
        "  #K, _ = generarK((H,W,C), pose, A=intrinsics[0].detach().cpu().numpy())\n",
        "  kernels_file = os.path.join(output_folder, img_name + '_kernels_found.png' )\n",
        "  #kernels_estimated = mostrar_kernels(K, (H,W,C), output_name = kernels_file)\n",
        "\n",
        "\n",
        "  show_kernels_from_offsets_on_blurry_image(blurry_tensor[0],offsets[0].reshape(n_positions,2,H,W), kernels_file)\n",
        "  print('Kernels saved in ',os.path.join(output_folder, img_name + '_kernels.png') )\n",
        "\n",
        "  save_image((255*blurry_image).astype(np.uint8), os.path.join(output_folder, img_name + '.png' ))\n",
        "  print('Output saved in ', os.path.join(output_folder, img_name + '_J-MTPD.png' ))\n",
        "\n",
        "  frames, reblurred = generate_video(output, camera_positions, intrinsics[0])\n",
        "  print(reblurred.shape)\n",
        "  reblurred = tensor2im(torch.clamp(reblurred[0].detach(),0,1) - 0.5)\n",
        "  save_image(reblurred, os.path.join(output_folder, img_name + '_reblurred.png' ))\n",
        "\n",
        "  show_positions_found(found_positions_np, intrinsics[0,0,0].detach().cpu().numpy(), os.path.join(output_folder, img_name + '_positions_found.png'))\n",
        "\n",
        "  if save_video:\n",
        "      #imgs=[];\n",
        "      output_video = os.path.join(output_folder, img_name + '.avi')\n",
        "      save_video(frames, output_video)\n",
        "      print('Video saved in ', output_video)\n"
      ]
    },
    {
      "cell_type": "code",
      "execution_count": null,
      "metadata": {
        "id": "4LdoyZuYlmIk"
      },
      "outputs": [],
      "source": [
        "input_image = 'testing_imgs/0316.png'\n",
        "input_image = 'testing_imgs/Blurry2_1.png'\n",
        "restoration_model='pretrained_models/80000_G.pth'"
      ]
    },
    {
      "cell_type": "code",
      "execution_count": null,
      "metadata": {
        "id": "zZDznYn4g_bN"
      },
      "outputs": [],
      "source": [
        "restore_images(input_image, camera_model)"
      ]
    },
    {
      "cell_type": "markdown",
      "metadata": {
        "id": "XDfnchPfmsA8"
      },
      "source": [
        "## Try with your own images"
      ]
    },
    {
      "cell_type": "code",
      "execution_count": null,
      "metadata": {
        "id": "vSntM3PGJj8a"
      },
      "outputs": [],
      "source": [
        "from google.colab import files\n",
        "import shutil\n",
        "\n",
        "upload_folder = 'upload/input'\n",
        "result_folder = 'upload/output'\n",
        "\n",
        "if os.path.isdir(upload_folder):\n",
        "    shutil.rmtree(upload_folder)\n",
        "if os.path.isdir(result_folder):\n",
        "    shutil.rmtree(result_folder)\n",
        "os.makedirs(upload_folder)\n",
        "os.makedirs(result_folder)\n",
        "\n",
        "# upload images\n",
        "uploaded = files.upload()\n",
        "for filename in uploaded.keys():\n",
        "  dst_path = os.path.join(upload_folder, filename)\n",
        "  print(f'move {filename} to {dst_path}')\n",
        "  shutil.move(filename, dst_path)"
      ]
    },
    {
      "cell_type": "code",
      "execution_count": null,
      "metadata": {
        "id": "ZvTFR-LKj9_6"
      },
      "outputs": [],
      "source": [
        "import glob\n",
        "input_list = sorted(glob.glob(os.path.join(upload_folder, '*')))\n",
        "for input_path in input_list:\n",
        "  img_input = imread(input_path)\n",
        "  restore_images(input_path, camera_model)"
      ]
    },
    {
      "cell_type": "code",
      "execution_count": null,
      "metadata": {
        "id": "78463DljnnCP"
      },
      "outputs": [],
      "source": []
    }
  ],
  "metadata": {
    "accelerator": "GPU",
    "colab": {
      "provenance": [],
      "include_colab_link": true
    },
    "gpuClass": "standard",
    "kernelspec": {
      "display_name": "Python 3",
      "language": "python",
      "name": "python3"
    },
    "language_info": {
      "codemirror_mode": {
        "name": "ipython",
        "version": 3
      },
      "file_extension": ".py",
      "mimetype": "text/x-python",
      "name": "python",
      "nbconvert_exporter": "python",
      "pygments_lexer": "ipython3",
      "version": "3.8.12"
    },
    "varInspector": {
      "cols": {
        "lenName": 16,
        "lenType": 16,
        "lenVar": 40
      },
      "kernels_config": {
        "python": {
          "delete_cmd_postfix": "",
          "delete_cmd_prefix": "del ",
          "library": "var_list.py",
          "varRefreshCmd": "print(var_dic_list())"
        },
        "r": {
          "delete_cmd_postfix": ") ",
          "delete_cmd_prefix": "rm(",
          "library": "var_list.r",
          "varRefreshCmd": "cat(var_dic_list()) "
        }
      },
      "types_to_exclude": [
        "module",
        "function",
        "builtin_function_or_method",
        "instance",
        "_Feature"
      ],
      "window_display": false
    }
  },
  "nbformat": 4,
  "nbformat_minor": 0
}