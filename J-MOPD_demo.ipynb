{
  "cells": [
    {
      "cell_type": "markdown",
      "metadata": {
        "id": "view-in-github",
        "colab_type": "text"
      },
      "source": [
        "<a href=\"https://colab.research.google.com/github/GuillermoCarbajal/J-MOPD/blob/main/J-MOPD_demo.ipynb\" target=\"_parent\"><img src=\"https://colab.research.google.com/assets/colab-badge.svg\" alt=\"Open In Colab\"/></a>"
      ]
    },
    {
      "cell_type": "markdown",
      "metadata": {
        "ExecuteTime": {
          "end_time": "2023-01-16T18:24:16.316501Z",
          "start_time": "2023-01-16T18:24:16.313009Z"
        },
        "id": "UeuyqEHv3neb"
      },
      "source": [
        "# Joint Motion Offset Prediction and Deblurring (J-MOPD) demo"
      ]
    },
    {
      "cell_type": "markdown",
      "metadata": {
        "ExecuteTime": {
          "end_time": "2023-01-16T18:29:06.215255Z",
          "start_time": "2023-01-16T18:29:06.208625Z"
        },
        "id": "aIo6nhrs3nei"
      },
      "source": [
        "## Clone the repo"
      ]
    },
    {
      "cell_type": "code",
      "execution_count": null,
      "metadata": {
        "ExecuteTime": {
          "end_time": "2023-10-06T14:47:52.370313Z",
          "start_time": "2023-10-06T14:47:48.375261Z"
        },
        "id": "oK1DpfPS3nek"
      },
      "outputs": [],
      "source": [
        "!git clone https://github.com/GuillermoCarbajal/J-MOPD.git\n",
        "%cd J-MOPD"
      ]
    },
    {
      "cell_type": "markdown",
      "metadata": {
        "id": "sL1mSTwX3nen"
      },
      "source": [
        "## Setup the environment"
      ]
    },
    {
      "cell_type": "code",
      "execution_count": null,
      "metadata": {
        "ExecuteTime": {
          "end_time": "2023-10-06T14:56:09.395055Z",
          "start_time": "2023-10-06T14:56:08.333464Z"
        },
        "colab": {
          "base_uri": "https://localhost:8080/"
        },
        "id": "jkXOSc4C3neo",
        "outputId": "69e2021e-db67-4901-f2ae-a80b77b041da"
      },
      "outputs": [
        {
          "output_type": "stream",
          "name": "stdout",
          "text": [
            "Collecting torch==1.11 (from -r requirements.txt (line 1))\n",
            "  Downloading torch-1.11.0-cp310-cp310-manylinux1_x86_64.whl.metadata (24 kB)\n",
            "Collecting torchvision==0.12.0 (from -r requirements.txt (line 2))\n",
            "  Downloading torchvision-0.12.0-cp310-cp310-manylinux1_x86_64.whl.metadata (10 kB)\n",
            "Requirement already satisfied: numpy in /usr/local/lib/python3.10/dist-packages (from -r requirements.txt (line 3)) (1.26.4)\n",
            "Requirement already satisfied: opencv-python in /usr/local/lib/python3.10/dist-packages (from -r requirements.txt (line 4)) (4.10.0.84)\n",
            "Requirement already satisfied: matplotlib in /usr/local/lib/python3.10/dist-packages (from -r requirements.txt (line 5)) (3.8.0)\n",
            "Requirement already satisfied: scikit-image in /usr/local/lib/python3.10/dist-packages (from -r requirements.txt (line 6)) (0.24.0)\n",
            "Requirement already satisfied: gdown in /usr/local/lib/python3.10/dist-packages (from -r requirements.txt (line 7)) (5.2.0)\n",
            "Collecting kornia (from -r requirements.txt (line 8))\n",
            "  Downloading kornia-0.7.4-py2.py3-none-any.whl.metadata (18 kB)\n",
            "Requirement already satisfied: typing-extensions in /usr/local/lib/python3.10/dist-packages (from torch==1.11->-r requirements.txt (line 1)) (4.12.2)\n",
            "Requirement already satisfied: requests in /usr/local/lib/python3.10/dist-packages (from torchvision==0.12.0->-r requirements.txt (line 2)) (2.32.3)\n",
            "Requirement already satisfied: pillow!=8.3.*,>=5.3.0 in /usr/local/lib/python3.10/dist-packages (from torchvision==0.12.0->-r requirements.txt (line 2)) (11.0.0)\n",
            "Requirement already satisfied: contourpy>=1.0.1 in /usr/local/lib/python3.10/dist-packages (from matplotlib->-r requirements.txt (line 5)) (1.3.1)\n",
            "Requirement already satisfied: cycler>=0.10 in /usr/local/lib/python3.10/dist-packages (from matplotlib->-r requirements.txt (line 5)) (0.12.1)\n",
            "Requirement already satisfied: fonttools>=4.22.0 in /usr/local/lib/python3.10/dist-packages (from matplotlib->-r requirements.txt (line 5)) (4.55.2)\n",
            "Requirement already satisfied: kiwisolver>=1.0.1 in /usr/local/lib/python3.10/dist-packages (from matplotlib->-r requirements.txt (line 5)) (1.4.7)\n",
            "Requirement already satisfied: packaging>=20.0 in /usr/local/lib/python3.10/dist-packages (from matplotlib->-r requirements.txt (line 5)) (24.2)\n",
            "Requirement already satisfied: pyparsing>=2.3.1 in /usr/local/lib/python3.10/dist-packages (from matplotlib->-r requirements.txt (line 5)) (3.2.0)\n",
            "Requirement already satisfied: python-dateutil>=2.7 in /usr/local/lib/python3.10/dist-packages (from matplotlib->-r requirements.txt (line 5)) (2.8.2)\n",
            "Requirement already satisfied: scipy>=1.9 in /usr/local/lib/python3.10/dist-packages (from scikit-image->-r requirements.txt (line 6)) (1.13.1)\n",
            "Requirement already satisfied: networkx>=2.8 in /usr/local/lib/python3.10/dist-packages (from scikit-image->-r requirements.txt (line 6)) (3.4.2)\n",
            "Requirement already satisfied: imageio>=2.33 in /usr/local/lib/python3.10/dist-packages (from scikit-image->-r requirements.txt (line 6)) (2.36.1)\n",
            "Requirement already satisfied: tifffile>=2022.8.12 in /usr/local/lib/python3.10/dist-packages (from scikit-image->-r requirements.txt (line 6)) (2024.9.20)\n",
            "Requirement already satisfied: lazy-loader>=0.4 in /usr/local/lib/python3.10/dist-packages (from scikit-image->-r requirements.txt (line 6)) (0.4)\n",
            "Requirement already satisfied: beautifulsoup4 in /usr/local/lib/python3.10/dist-packages (from gdown->-r requirements.txt (line 7)) (4.12.3)\n",
            "Requirement already satisfied: filelock in /usr/local/lib/python3.10/dist-packages (from gdown->-r requirements.txt (line 7)) (3.16.1)\n",
            "Requirement already satisfied: tqdm in /usr/local/lib/python3.10/dist-packages (from gdown->-r requirements.txt (line 7)) (4.66.6)\n",
            "Collecting kornia-rs>=0.1.0 (from kornia->-r requirements.txt (line 8))\n",
            "  Downloading kornia_rs-0.1.7-cp310-cp310-manylinux_2_17_x86_64.manylinux2014_x86_64.whl.metadata (9.1 kB)\n",
            "Requirement already satisfied: six>=1.5 in /usr/local/lib/python3.10/dist-packages (from python-dateutil>=2.7->matplotlib->-r requirements.txt (line 5)) (1.17.0)\n",
            "Requirement already satisfied: soupsieve>1.2 in /usr/local/lib/python3.10/dist-packages (from beautifulsoup4->gdown->-r requirements.txt (line 7)) (2.6)\n",
            "Requirement already satisfied: charset-normalizer<4,>=2 in /usr/local/lib/python3.10/dist-packages (from requests->torchvision==0.12.0->-r requirements.txt (line 2)) (3.4.0)\n",
            "Requirement already satisfied: idna<4,>=2.5 in /usr/local/lib/python3.10/dist-packages (from requests->torchvision==0.12.0->-r requirements.txt (line 2)) (3.10)\n",
            "Requirement already satisfied: urllib3<3,>=1.21.1 in /usr/local/lib/python3.10/dist-packages (from requests->torchvision==0.12.0->-r requirements.txt (line 2)) (2.2.3)\n",
            "Requirement already satisfied: certifi>=2017.4.17 in /usr/local/lib/python3.10/dist-packages (from requests->torchvision==0.12.0->-r requirements.txt (line 2)) (2024.8.30)\n",
            "Requirement already satisfied: PySocks!=1.5.7,>=1.5.6 in /usr/local/lib/python3.10/dist-packages (from requests[socks]->gdown->-r requirements.txt (line 7)) (1.7.1)\n",
            "Downloading torch-1.11.0-cp310-cp310-manylinux1_x86_64.whl (750.6 MB)\n",
            "\u001b[2K   \u001b[90m━━━━━━━━━━━━━━━━━━━━━━━━━━━━━━━━━━━━━━━━\u001b[0m \u001b[32m750.6/750.6 MB\u001b[0m \u001b[31m1.3 MB/s\u001b[0m eta \u001b[36m0:00:00\u001b[0m\n",
            "\u001b[?25hDownloading torchvision-0.12.0-cp310-cp310-manylinux1_x86_64.whl (21.0 MB)\n",
            "\u001b[2K   \u001b[90m━━━━━━━━━━━━━━━━━━━━━━━━━━━━━━━━━━━━━━━━\u001b[0m \u001b[32m21.0/21.0 MB\u001b[0m \u001b[31m83.3 MB/s\u001b[0m eta \u001b[36m0:00:00\u001b[0m\n",
            "\u001b[?25hDownloading kornia-0.7.4-py2.py3-none-any.whl (899 kB)\n",
            "\u001b[2K   \u001b[90m━━━━━━━━━━━━━━━━━━━━━━━━━━━━━━━━━━━━━━━━\u001b[0m \u001b[32m899.4/899.4 kB\u001b[0m \u001b[31m47.1 MB/s\u001b[0m eta \u001b[36m0:00:00\u001b[0m\n",
            "\u001b[?25hDownloading kornia_rs-0.1.7-cp310-cp310-manylinux_2_17_x86_64.manylinux2014_x86_64.whl (1.6 MB)\n",
            "\u001b[2K   \u001b[90m━━━━━━━━━━━━━━━━━━━━━━━━━━━━━━━━━━━━━━━━\u001b[0m \u001b[32m1.6/1.6 MB\u001b[0m \u001b[31m71.7 MB/s\u001b[0m eta \u001b[36m0:00:00\u001b[0m\n",
            "\u001b[?25hInstalling collected packages: torch, kornia-rs, torchvision, kornia\n",
            "  Attempting uninstall: torch\n",
            "    Found existing installation: torch 2.5.1+cu121\n",
            "    Uninstalling torch-2.5.1+cu121:\n",
            "      Successfully uninstalled torch-2.5.1+cu121\n",
            "  Attempting uninstall: torchvision\n",
            "    Found existing installation: torchvision 0.20.1+cu121\n",
            "    Uninstalling torchvision-0.20.1+cu121:\n",
            "      Successfully uninstalled torchvision-0.20.1+cu121\n",
            "\u001b[31mERROR: pip's dependency resolver does not currently take into account all the packages that are installed. This behaviour is the source of the following dependency conflicts.\n",
            "peft 0.13.2 requires torch>=1.13.0, but you have torch 1.11.0 which is incompatible.\n",
            "torchaudio 2.5.1+cu121 requires torch==2.5.1, but you have torch 1.11.0 which is incompatible.\u001b[0m\u001b[31m\n",
            "\u001b[0mSuccessfully installed kornia-0.7.4 kornia-rs-0.1.7 torch-1.11.0 torchvision-0.12.0\n"
          ]
        }
      ],
      "source": [
        "!pip install -r 'requirements.txt'"
      ]
    },
    {
      "cell_type": "markdown",
      "metadata": {
        "id": "FUZSEIxYiywI"
      },
      "source": [
        "## Download pretrained models"
      ]
    },
    {
      "cell_type": "code",
      "execution_count": null,
      "metadata": {
        "ExecuteTime": {
          "end_time": "2023-10-06T14:52:42.506199Z",
          "start_time": "2023-10-06T14:52:42.491473Z"
        },
        "id": "DiElLLM2HS4D"
      },
      "outputs": [],
      "source": [
        "import gdown\n",
        "gdown.download('http://iie.fing.edu.uy/~carbajal/J-MOPD/crop320/camera_shake_crop320.pkl', \"./pretrained_models/\", quiet=False)\n",
        "gdown.download('http://iie.fing.edu.uy/~carbajal/J-MOPD/crop320/camera_shake_crop320_G.pkl', \"./pretrained_models/\", quiet=False)"
      ]
    },
    {
      "cell_type": "code",
      "execution_count": null,
      "metadata": {
        "id": "LJ46_zyoO2pW"
      },
      "outputs": [],
      "source": []
    },
    {
      "cell_type": "code",
      "execution_count": null,
      "metadata": {
        "id": "RhLav75OMNJW"
      },
      "outputs": [],
      "source": [
        "import torch\n",
        "from skimage.io import imread\n",
        "from skimage.transform import rescale\n",
        "from utils.homographies import compute_intrinsics, generate_video, get_offsets_from_positions, \\\n",
        "                               save_kernels_from_offsets, show_kernels_from_offsets_on_blurry_image, save_motion_flow, reblur_offsets\n",
        "import numpy as np\n",
        "#from models.network_nimbusr_pmbm import NIMBUSR_PMBM as net\n",
        "from models.network_nimbusr_offsets import NIMBUSR_Offsets as net_nimbusr_offsets\n",
        "\n",
        "from utils.visualization import save_image, tensor2im, save_video, sort_positions, show_positions_found\n",
        "import os\n",
        "import argparse\n",
        "from models.CameraShakeModel_OffsetNet import OffsetNet_quad as OffsetsNet\n",
        "import json\n",
        "from PIL import Image\n",
        "import cv2"
      ]
    },
    {
      "cell_type": "markdown",
      "metadata": {
        "id": "KkoenR76DU9-"
      },
      "source": [
        "## Offsets Computation"
      ]
    },
    {
      "cell_type": "code",
      "execution_count": null,
      "metadata": {
        "ExecuteTime": {
          "end_time": "2023-01-22T19:28:41.067494Z",
          "start_time": "2023-01-22T19:28:41.008424Z"
        },
        "id": "JpDopxdPDP4s",
        "outputId": "465c098e-eccc-4d18-b607-da389237d254",
        "colab": {
          "base_uri": "https://localhost:8080/"
        }
      },
      "outputs": [
        {
          "output_type": "stream",
          "name": "stdout",
          "text": [
            "cuda is not available\n"
          ]
        },
        {
          "output_type": "execute_result",
          "data": {
            "text/plain": [
              "OffsetNet_quad(\n",
              "  (pad_1): ReflectionPad2d((1, 2, 1, 2))\n",
              "  (todepth): SpaceToDepth()\n",
              "  (conv_1): Sequential(\n",
              "    (0): ReflectionPad2d((2, 2, 2, 2))\n",
              "    (1): Conv2d(12, 16, kernel_size=(5, 5), stride=(1, 1))\n",
              "    (2): ReLU(inplace=True)\n",
              "    (3): Sequential(\n",
              "      (0): ResnetBlock_woNorm(\n",
              "        (conv_block): Sequential(\n",
              "          (0): ReplicationPad2d((2, 2, 2, 2))\n",
              "          (1): Conv2d(16, 16, kernel_size=(5, 5), stride=(1, 1))\n",
              "          (2): ReLU(inplace=True)\n",
              "          (3): ReplicationPad2d((2, 2, 2, 2))\n",
              "          (4): Conv2d(16, 16, kernel_size=(5, 5), stride=(1, 1))\n",
              "        )\n",
              "      )\n",
              "      (1): ResnetBlock_woNorm(\n",
              "        (conv_block): Sequential(\n",
              "          (0): ReplicationPad2d((2, 2, 2, 2))\n",
              "          (1): Conv2d(16, 16, kernel_size=(5, 5), stride=(1, 1))\n",
              "          (2): ReLU(inplace=True)\n",
              "          (3): ReplicationPad2d((2, 2, 2, 2))\n",
              "          (4): Conv2d(16, 16, kernel_size=(5, 5), stride=(1, 1))\n",
              "        )\n",
              "      )\n",
              "      (2): ResnetBlock_woNorm(\n",
              "        (conv_block): Sequential(\n",
              "          (0): ReplicationPad2d((2, 2, 2, 2))\n",
              "          (1): Conv2d(16, 16, kernel_size=(5, 5), stride=(1, 1))\n",
              "          (2): ReLU(inplace=True)\n",
              "          (3): ReplicationPad2d((2, 2, 2, 2))\n",
              "          (4): Conv2d(16, 16, kernel_size=(5, 5), stride=(1, 1))\n",
              "        )\n",
              "      )\n",
              "    )\n",
              "  )\n",
              "  (conv_2): Sequential(\n",
              "    (0): ReflectionPad2d((1, 2, 1, 2))\n",
              "    (1): Conv2d(16, 32, kernel_size=(5, 5), stride=(2, 2))\n",
              "    (2): ReLU(inplace=True)\n",
              "    (3): Sequential(\n",
              "      (0): ResnetBlock_woNorm(\n",
              "        (conv_block): Sequential(\n",
              "          (0): ReplicationPad2d((2, 2, 2, 2))\n",
              "          (1): Conv2d(32, 32, kernel_size=(5, 5), stride=(1, 1))\n",
              "          (2): ReLU(inplace=True)\n",
              "          (3): ReplicationPad2d((2, 2, 2, 2))\n",
              "          (4): Conv2d(32, 32, kernel_size=(5, 5), stride=(1, 1))\n",
              "        )\n",
              "      )\n",
              "      (1): ResnetBlock_woNorm(\n",
              "        (conv_block): Sequential(\n",
              "          (0): ReplicationPad2d((2, 2, 2, 2))\n",
              "          (1): Conv2d(32, 32, kernel_size=(5, 5), stride=(1, 1))\n",
              "          (2): ReLU(inplace=True)\n",
              "          (3): ReplicationPad2d((2, 2, 2, 2))\n",
              "          (4): Conv2d(32, 32, kernel_size=(5, 5), stride=(1, 1))\n",
              "        )\n",
              "      )\n",
              "      (2): ResnetBlock_woNorm(\n",
              "        (conv_block): Sequential(\n",
              "          (0): ReplicationPad2d((2, 2, 2, 2))\n",
              "          (1): Conv2d(32, 32, kernel_size=(5, 5), stride=(1, 1))\n",
              "          (2): ReLU(inplace=True)\n",
              "          (3): ReplicationPad2d((2, 2, 2, 2))\n",
              "          (4): Conv2d(32, 32, kernel_size=(5, 5), stride=(1, 1))\n",
              "        )\n",
              "      )\n",
              "    )\n",
              "  )\n",
              "  (conv_3): Sequential(\n",
              "    (0): ReflectionPad2d((1, 2, 1, 2))\n",
              "    (1): Conv2d(32, 64, kernel_size=(5, 5), stride=(2, 2))\n",
              "    (2): ReLU(inplace=True)\n",
              "    (3): Sequential(\n",
              "      (0): ResnetBlock_woNorm(\n",
              "        (conv_block): Sequential(\n",
              "          (0): ReplicationPad2d((2, 2, 2, 2))\n",
              "          (1): Conv2d(64, 64, kernel_size=(5, 5), stride=(1, 1))\n",
              "          (2): ReLU(inplace=True)\n",
              "          (3): ReplicationPad2d((2, 2, 2, 2))\n",
              "          (4): Conv2d(64, 64, kernel_size=(5, 5), stride=(1, 1))\n",
              "        )\n",
              "      )\n",
              "      (1): ResnetBlock_woNorm(\n",
              "        (conv_block): Sequential(\n",
              "          (0): ReplicationPad2d((2, 2, 2, 2))\n",
              "          (1): Conv2d(64, 64, kernel_size=(5, 5), stride=(1, 1))\n",
              "          (2): ReLU(inplace=True)\n",
              "          (3): ReplicationPad2d((2, 2, 2, 2))\n",
              "          (4): Conv2d(64, 64, kernel_size=(5, 5), stride=(1, 1))\n",
              "        )\n",
              "      )\n",
              "      (2): ResnetBlock_woNorm(\n",
              "        (conv_block): Sequential(\n",
              "          (0): ReplicationPad2d((2, 2, 2, 2))\n",
              "          (1): Conv2d(64, 64, kernel_size=(5, 5), stride=(1, 1))\n",
              "          (2): ReLU(inplace=True)\n",
              "          (3): ReplicationPad2d((2, 2, 2, 2))\n",
              "          (4): Conv2d(64, 64, kernel_size=(5, 5), stride=(1, 1))\n",
              "        )\n",
              "      )\n",
              "    )\n",
              "  )\n",
              "  (bottleneck_1): Bottleneck(\n",
              "    (conv1): Conv2d(64, 128, kernel_size=(1, 1), stride=(1, 1))\n",
              "    (lReLU1): LeakyReLU(negative_slope=0.2, inplace=True)\n",
              "    (conv2): Conv2d(128, 64, kernel_size=(3, 3), stride=(1, 1), padding=(1, 1))\n",
              "    (lReLU2): LeakyReLU(negative_slope=0.2, inplace=True)\n",
              "    (model): Sequential(\n",
              "      (0): Conv2d(64, 128, kernel_size=(1, 1), stride=(1, 1))\n",
              "      (1): LeakyReLU(negative_slope=0.2, inplace=True)\n",
              "      (2): Conv2d(128, 64, kernel_size=(3, 3), stride=(1, 1), padding=(1, 1))\n",
              "      (3): LeakyReLU(negative_slope=0.2, inplace=True)\n",
              "    )\n",
              "  )\n",
              "  (uconv_1): ConvTranspose2d(64, 32, kernel_size=(4, 4), stride=(2, 2), padding=(1, 1))\n",
              "  (bottleneck_2): Bottleneck(\n",
              "    (conv1): Conv2d(64, 128, kernel_size=(1, 1), stride=(1, 1))\n",
              "    (lReLU1): LeakyReLU(negative_slope=0.2, inplace=True)\n",
              "    (conv2): Conv2d(128, 64, kernel_size=(3, 3), stride=(1, 1), padding=(1, 1))\n",
              "    (lReLU2): LeakyReLU(negative_slope=0.2, inplace=True)\n",
              "    (model): Sequential(\n",
              "      (0): Conv2d(64, 128, kernel_size=(1, 1), stride=(1, 1))\n",
              "      (1): LeakyReLU(negative_slope=0.2, inplace=True)\n",
              "      (2): Conv2d(128, 64, kernel_size=(3, 3), stride=(1, 1), padding=(1, 1))\n",
              "      (3): LeakyReLU(negative_slope=0.2, inplace=True)\n",
              "    )\n",
              "  )\n",
              "  (uconv_2): ConvTranspose2d(64, 16, kernel_size=(4, 4), stride=(2, 2), padding=(1, 1))\n",
              "  (bottleneck_3): Bottleneck(\n",
              "    (conv1): Conv2d(32, 64, kernel_size=(1, 1), stride=(1, 1))\n",
              "    (lReLU1): LeakyReLU(negative_slope=0.2, inplace=True)\n",
              "    (conv2): Conv2d(64, 32, kernel_size=(3, 3), stride=(1, 1), padding=(1, 1))\n",
              "    (lReLU2): LeakyReLU(negative_slope=0.2, inplace=True)\n",
              "    (model): Sequential(\n",
              "      (0): Conv2d(32, 64, kernel_size=(1, 1), stride=(1, 1))\n",
              "      (1): LeakyReLU(negative_slope=0.2, inplace=True)\n",
              "      (2): Conv2d(64, 32, kernel_size=(3, 3), stride=(1, 1), padding=(1, 1))\n",
              "      (3): LeakyReLU(negative_slope=0.2, inplace=True)\n",
              "    )\n",
              "  )\n",
              "  (uconv_3): ConvTranspose2d(32, 32, kernel_size=(4, 4), stride=(2, 2), padding=(1, 1))\n",
              "  (conv_out_0): Conv2d(32, 50, kernel_size=(5, 5), stride=(1, 1), padding=(2, 2))\n",
              ")"
            ]
          },
          "metadata": {},
          "execution_count": 22
        }
      ],
      "source": [
        "#input_image = 'testing_imgs/0316.png'\n",
        "input_image ='testing_imgs/manmade_01_gyro_01.png'\n",
        "camera_model_file = 'pretrained_models/camera_shake_epoch50_epoch35_epoch40_epoch70_epoch70_epoch60_epoch4_epoch30_epoch15_epoch30_epoch30_epoch30_epoch30_epoch27_epoch27_epoch27.pkl'\n",
        "restoration_model_file ='pretrained_models/camera_shake_epoch50_epoch35_epoch40_epoch70_epoch70_epoch60_epoch4_epoch30_epoch15_epoch30_epoch30_epoch30_epoch30_epoch27_epoch27_epoch27_G.pkl'\n",
        "n_positions= 25 # number of positions estimated by the network\n",
        "if torch.cuda.is_available():\n",
        "  offsets_net = OffsetsNet(n_offset=n_positions,offset_mode='raw').cuda()\n",
        "  state_dict = torch.load(camera_model_file )\n",
        "else:\n",
        "  offsets_net = OffsetsNet(n_offset=n_positions,offset_mode='raw').to('cpu')\n",
        "  state_dict = torch.load(camera_model_file, map_location=torch.device('cpu') )\n",
        "  print('cuda is not available')\n",
        "\n",
        "\n",
        "offsets_net.load_state_dict(state_dict)\n",
        "offsets_net.eval()"
      ]
    },
    {
      "cell_type": "code",
      "execution_count": null,
      "metadata": {
        "id": "KZ-apJxWL6Zu"
      },
      "outputs": [],
      "source": [
        "def compute_offsets(input_file, offsets_net, output_dir='testing_results',\n",
        "                       gamma_factor=1.0, save_video=False):\n",
        "\n",
        "  n_positions= 25 # number of positions estimated by the network\n",
        "  if not os.path.exists(output_dir):\n",
        "      os.makedirs(output_dir)\n",
        "\n",
        "  img_name = input_file.split('/')[-1]\n",
        "  img_name, ext = img_name.split('.')\n",
        "\n",
        "  print('loading image ',input_file)\n",
        "  blurry_image = imread(input_file)/255.0\n",
        "\n",
        "  # Blurry image is transformed to pytorch format\n",
        "  if torch.cuda.is_available():\n",
        "    blurry_tensor = torch.from_numpy(blurry_image).permute(2,0,1)[None].cuda().float()\n",
        "  else:\n",
        "    blurry_tensor = torch.from_numpy(blurry_image).permute(2,0,1)[None].float()\n",
        "\n",
        "  _, C,H,W = blurry_tensor.shape\n",
        "\n",
        "  # Kernels and masks are estimated\n",
        "  blurry_tensor_to_compute_kernels = blurry_tensor**gamma_factor - 0.5\n",
        "\n",
        "\n",
        "  with torch.no_grad():\n",
        "      blurry_tensor_ph = blurry_tensor**gamma_factor\n",
        "      offsets = offsets_net(blurry_tensor_ph - 0.5)\n",
        "      offsets = offsets[:,:,:H,:W]\n",
        "      blurry_tensor = blurry_tensor[:,:,:H,:W]\n",
        "\n",
        "\n",
        "  offsets = offsets.reshape(1,2*n_positions, H,W)\n",
        "  offsets_BT=None\n",
        "\n",
        "\n",
        "  kernels_file = os.path.join(output_dir, img_name + '_kernels_found.png' )\n",
        "\n",
        "\n",
        "  show_kernels_from_offsets_on_blurry_image(blurry_tensor[0],offsets[0].reshape(n_positions,2,H,W), kernels_file)\n",
        "  print('Kernels saved in ',os.path.join(output_dir, img_name + '_kernels.png') )\n"
      ]
    },
    {
      "cell_type": "code",
      "execution_count": null,
      "metadata": {
        "id": "tLTU_G1tLb-X",
        "outputId": "a505684b-feb3-411f-a8f5-9d1289d29da7",
        "colab": {
          "base_uri": "https://localhost:8080/"
        }
      },
      "outputs": [
        {
          "output_type": "stream",
          "name": "stdout",
          "text": [
            "loading image  testing_imgs/manmade_01_gyro_01.png\n",
            "Kernels saved in  testing_results/manmade_01_gyro_01_kernels.png\n"
          ]
        }
      ],
      "source": [
        "compute_offsets(input_image, offsets_net)"
      ]
    },
    {
      "cell_type": "markdown",
      "metadata": {
        "id": "ZPel3cx0d6oU"
      },
      "source": [
        "## Image Deblurring"
      ]
    },
    {
      "cell_type": "code",
      "execution_count": null,
      "metadata": {
        "ExecuteTime": {
          "end_time": "2023-01-22T19:35:21.360409Z",
          "start_time": "2023-01-22T19:35:21.340336Z"
        },
        "id": "a-ngjPshgDXy"
      },
      "outputs": [],
      "source": [
        "#from models.network_nimbusr_pmbm import NIMBUSR_PMBM as net\n",
        "from models.network_nimbusr_offsets import NIMBUSR_Offsets as net_nimbusr_offsets"
      ]
    },
    {
      "cell_type": "code",
      "execution_count": null,
      "metadata": {
        "id": "2pEBZZENfmfb"
      },
      "outputs": [],
      "source": [
        "def load_nimbusr_net(restoration_network_file, type='offsets'):\n",
        "    opt_net = { \"n_iter\": 8\n",
        "        , \"h_nc\": 64\n",
        "        , \"in_nc\": 4 #2 if args.gray else 4 #4\n",
        "        , \"out_nc\":3 #1 if args.gray else 3 #3\n",
        "        #, \"ksize\": 25\n",
        "        , \"nc\": [64, 128, 256, 512]\n",
        "        , \"nb\": 2\n",
        "        , \"gc\": 32\n",
        "        , \"ng\": 2\n",
        "        , \"reduction\" : 16\n",
        "        , \"act_mode\": \"R\"\n",
        "        , \"upsample_mode\": \"convtranspose\"\n",
        "        , \"downsample_mode\": \"strideconv\"}\n",
        "\n",
        "\n",
        "    if type=='pmbm':\n",
        "        netG = net_nimbusr_offsets(n_iter=opt_net['n_iter'],\n",
        "                    h_nc=opt_net['h_nc'],\n",
        "                    in_nc=opt_net['in_nc'],\n",
        "                    out_nc=opt_net['out_nc'],\n",
        "                    nc=opt_net['nc'],\n",
        "                    nb=opt_net['nb'],\n",
        "                    act_mode=opt_net['act_mode'],\n",
        "                    downsample_mode=opt_net['downsample_mode'],\n",
        "                    upsample_mode=opt_net['upsample_mode']\n",
        "                    )\n",
        "    elif type=='offsets':\n",
        "        netG = net_nimbusr_offsets(n_iter=opt_net['n_iter'],\n",
        "            h_nc=opt_net['h_nc'],\n",
        "            in_nc=opt_net['in_nc'],\n",
        "            out_nc=opt_net['out_nc'],\n",
        "            nc=opt_net['nc'],\n",
        "            nb=opt_net['nb'],\n",
        "            act_mode=opt_net['act_mode'],\n",
        "            downsample_mode=opt_net['downsample_mode'],\n",
        "            upsample_mode=opt_net['upsample_mode']\n",
        "            )\n",
        "\n",
        "    if os.path.exists(restoration_network_file):\n",
        "        print('Loading model for G [{:s}] ...'.format(restoration_network_file))\n",
        "        if torch.cuda.is_available():\n",
        "          print('Running on gpu.')\n",
        "          netG.load_state_dict(torch.load(restoration_network_file))\n",
        "          netG = netG.to('cuda')\n",
        "        else:\n",
        "          print('Running on cpu. Cuda is not available.')\n",
        "          netG.load_state_dict(torch.load(restoration_network_file,map_location=torch.device('cpu')))\n",
        "\n",
        "    else:\n",
        "        print('Model does not exists')\n",
        "\n",
        "\n",
        "\n",
        "    return netG\n"
      ]
    },
    {
      "cell_type": "code",
      "execution_count": null,
      "metadata": {
        "id": "eM_qzywkgOpy"
      },
      "outputs": [],
      "source": [
        "def restore_images(input_file, offsets_net, netG, output_folder='testing_results', gamma_factor=1.0,\n",
        "                   resize_factor=1, network_type='nimbusr_sat', focal_length=-1, save_video=False):\n",
        "\n",
        "  n_positions= 25 # number of positions estimated by the network\n",
        "  if not os.path.exists(output_folder):\n",
        "      os.makedirs(output_folder)\n",
        "\n",
        "  img_name = input_file.split('/')[-1]\n",
        "  img_name, ext = img_name.split('.')\n",
        "\n",
        "  print('loading image ',input_file)\n",
        "  blurry_image = imread(input_file)/255.0\n",
        "\n",
        "  # Blurry image is transformed to pytorch format\n",
        "  if torch.cuda.is_available():\n",
        "    blurry_tensor = torch.from_numpy(blurry_image).permute(2,0,1)[None].cuda().float()\n",
        "  else:\n",
        "    blurry_tensor = torch.from_numpy(blurry_image).permute(2,0,1)[None].float()\n",
        "\n",
        "  _, C,H,W = blurry_tensor.shape\n",
        "\n",
        "  # Kernels and masks are estimated\n",
        "  blurry_tensor_to_compute_kernels = blurry_tensor**gamma_factor - 0.5\n",
        "\n",
        "\n",
        "  with torch.no_grad():\n",
        "      blurry_tensor_ph = blurry_tensor**gamma_factor\n",
        "      offsets = offsets_net(blurry_tensor_ph - 0.5)\n",
        "      offsets = offsets[:,:,:H,:W]\n",
        "      blurry_tensor = blurry_tensor[:,:,:H,:W]\n",
        "\n",
        "\n",
        "  offsets = offsets.reshape(1,2*n_positions, H,W)\n",
        "  offsets_BT=None\n",
        "\n",
        "\n",
        "\n",
        "  noise_level = 0.01\n",
        "  noise_level = torch.FloatTensor([noise_level]).view(1,1,1).to(blurry_tensor.device)\n",
        "\n",
        "  with torch.no_grad():\n",
        "    output_ph = netG(blurry_tensor_ph[:,:,:H,:W], offsets[:,:,:H,:W], sf=1, sigma=noise_level[None,:])\n",
        "    output = torch.clamp(output_ph,0,1)**(1.0/gamma_factor)\n",
        "\n",
        "  output_img = tensor2im(torch.clamp(output[0].detach(),0,1) - 0.5)\n",
        "  save_image(output_img, os.path.join(output_folder, img_name + '_PMBM.png' ))\n",
        "\n",
        "  save_motion_flow(offsets.reshape(n_positions,2,H,W), os.path.join(output_folder, f'{img_name}_motion_flow.png'))\n",
        "  #save_kernels_from_offsets(offsets, os.path.join(output_folder, f'{img_name}_kernels.png'))\n",
        "\n",
        "  show_kernels_from_offsets_on_blurry_image(blurry_tensor[0],offsets[0].reshape(n_positions,2,H,W), os.path.join(output_folder, img_name + '_kernels.png' ))\n",
        "\n",
        "\n",
        "  save_image((255*blurry_image).astype(np.uint8), os.path.join(output_folder, img_name + '.png' ))\n",
        "  print('Output saved in ', os.path.join(output_folder, img_name + '_offsets.png' ))\n",
        "\n",
        "\n",
        "  #kh, kw = int(np.sqrt(n_positions)),int(np.sqrt(n_positions))   # we have 25 offsets\n",
        "  #weight = torch.ones((C,1,kh, kw)).cuda()/(kh*kw)\n",
        "  #weight = torch.zeros((C,1,kh, kw)).cuda()\n",
        "  #weight[:,0,4,4]=1\n",
        "  #mask = torch.ones(1, kh * kw, H, W).cuda()\n",
        "\n",
        "  #reblurred_image_ph = deform_conv2d(output_ph, offsets_dc[:,:,:H,:W], weight, padding=kh//2)\n",
        "  reblurred_image_ph = reblur_offsets(output_ph, offsets.reshape(1,n_positions,2,H,W))\n",
        "  reblurred_image = torch.clamp(reblurred_image_ph,0,1)**(1.0/gamma_factor)\n",
        "  reblurred = tensor2im(torch.clamp(reblurred_image[0,:,:H,:W].detach(),0,1) - 0.5)\n",
        "  save_image(reblurred, os.path.join(output_folder, img_name + '_reblurred.png' ))\n"
      ]
    },
    {
      "cell_type": "code",
      "execution_count": null,
      "metadata": {
        "id": "4LdoyZuYlmIk"
      },
      "outputs": [],
      "source": [
        "input_image = 'testing_imgs/manmade_01_gyro_01.png'\n"
      ]
    },
    {
      "cell_type": "code",
      "execution_count": null,
      "metadata": {
        "id": "zZDznYn4g_bN",
        "outputId": "2bfc555d-ba29-4efb-d31f-7bc4d6553189",
        "colab": {
          "base_uri": "https://localhost:8080/"
        }
      },
      "outputs": [
        {
          "output_type": "stream",
          "name": "stdout",
          "text": [
            "Loading model for G [pretrained_models/camera_shake_epoch50_epoch35_epoch40_epoch70_epoch70_epoch60_epoch4_epoch30_epoch15_epoch30_epoch30_epoch30_epoch30_epoch27_epoch27_epoch27_G.pkl] ...\n",
            "Running on cpu. Cuda is not available.\n",
            "loading image  testing_imgs/manmade_01_gyro_01.png\n",
            "Output saved in  testing_results/manmade_01_gyro_01_offsets.png\n"
          ]
        }
      ],
      "source": [
        "netG = load_nimbusr_net(restoration_model_file, 'offsets')\n",
        "netG.eval()\n",
        "restore_images(input_image, offsets_net, netG)"
      ]
    },
    {
      "cell_type": "markdown",
      "metadata": {
        "id": "XDfnchPfmsA8"
      },
      "source": [
        "## Try with your own images"
      ]
    },
    {
      "cell_type": "code",
      "execution_count": null,
      "metadata": {
        "id": "vSntM3PGJj8a",
        "outputId": "ceba62a9-bfa5-424c-d492-95b2bfdf9af4",
        "colab": {
          "base_uri": "https://localhost:8080/",
          "height": 39
        }
      },
      "outputs": [
        {
          "data": {
            "text/html": [
              "\n",
              "     <input type=\"file\" id=\"files-9d9a563c-c62e-40f7-b18f-686fa6c098bd\" name=\"files[]\" multiple disabled\n",
              "        style=\"border:none\" />\n",
              "     <output id=\"result-9d9a563c-c62e-40f7-b18f-686fa6c098bd\">\n",
              "      Upload widget is only available when the cell has been executed in the\n",
              "      current browser session. Please rerun this cell to enable.\n",
              "      </output>\n",
              "      <script>// Copyright 2017 Google LLC\n",
              "//\n",
              "// Licensed under the Apache License, Version 2.0 (the \"License\");\n",
              "// you may not use this file except in compliance with the License.\n",
              "// You may obtain a copy of the License at\n",
              "//\n",
              "//      http://www.apache.org/licenses/LICENSE-2.0\n",
              "//\n",
              "// Unless required by applicable law or agreed to in writing, software\n",
              "// distributed under the License is distributed on an \"AS IS\" BASIS,\n",
              "// WITHOUT WARRANTIES OR CONDITIONS OF ANY KIND, either express or implied.\n",
              "// See the License for the specific language governing permissions and\n",
              "// limitations under the License.\n",
              "\n",
              "/**\n",
              " * @fileoverview Helpers for google.colab Python module.\n",
              " */\n",
              "(function(scope) {\n",
              "function span(text, styleAttributes = {}) {\n",
              "  const element = document.createElement('span');\n",
              "  element.textContent = text;\n",
              "  for (const key of Object.keys(styleAttributes)) {\n",
              "    element.style[key] = styleAttributes[key];\n",
              "  }\n",
              "  return element;\n",
              "}\n",
              "\n",
              "// Max number of bytes which will be uploaded at a time.\n",
              "const MAX_PAYLOAD_SIZE = 100 * 1024;\n",
              "\n",
              "function _uploadFiles(inputId, outputId) {\n",
              "  const steps = uploadFilesStep(inputId, outputId);\n",
              "  const outputElement = document.getElementById(outputId);\n",
              "  // Cache steps on the outputElement to make it available for the next call\n",
              "  // to uploadFilesContinue from Python.\n",
              "  outputElement.steps = steps;\n",
              "\n",
              "  return _uploadFilesContinue(outputId);\n",
              "}\n",
              "\n",
              "// This is roughly an async generator (not supported in the browser yet),\n",
              "// where there are multiple asynchronous steps and the Python side is going\n",
              "// to poll for completion of each step.\n",
              "// This uses a Promise to block the python side on completion of each step,\n",
              "// then passes the result of the previous step as the input to the next step.\n",
              "function _uploadFilesContinue(outputId) {\n",
              "  const outputElement = document.getElementById(outputId);\n",
              "  const steps = outputElement.steps;\n",
              "\n",
              "  const next = steps.next(outputElement.lastPromiseValue);\n",
              "  return Promise.resolve(next.value.promise).then((value) => {\n",
              "    // Cache the last promise value to make it available to the next\n",
              "    // step of the generator.\n",
              "    outputElement.lastPromiseValue = value;\n",
              "    return next.value.response;\n",
              "  });\n",
              "}\n",
              "\n",
              "/**\n",
              " * Generator function which is called between each async step of the upload\n",
              " * process.\n",
              " * @param {string} inputId Element ID of the input file picker element.\n",
              " * @param {string} outputId Element ID of the output display.\n",
              " * @return {!Iterable<!Object>} Iterable of next steps.\n",
              " */\n",
              "function* uploadFilesStep(inputId, outputId) {\n",
              "  const inputElement = document.getElementById(inputId);\n",
              "  inputElement.disabled = false;\n",
              "\n",
              "  const outputElement = document.getElementById(outputId);\n",
              "  outputElement.innerHTML = '';\n",
              "\n",
              "  const pickedPromise = new Promise((resolve) => {\n",
              "    inputElement.addEventListener('change', (e) => {\n",
              "      resolve(e.target.files);\n",
              "    });\n",
              "  });\n",
              "\n",
              "  const cancel = document.createElement('button');\n",
              "  inputElement.parentElement.appendChild(cancel);\n",
              "  cancel.textContent = 'Cancel upload';\n",
              "  const cancelPromise = new Promise((resolve) => {\n",
              "    cancel.onclick = () => {\n",
              "      resolve(null);\n",
              "    };\n",
              "  });\n",
              "\n",
              "  // Wait for the user to pick the files.\n",
              "  const files = yield {\n",
              "    promise: Promise.race([pickedPromise, cancelPromise]),\n",
              "    response: {\n",
              "      action: 'starting',\n",
              "    }\n",
              "  };\n",
              "\n",
              "  cancel.remove();\n",
              "\n",
              "  // Disable the input element since further picks are not allowed.\n",
              "  inputElement.disabled = true;\n",
              "\n",
              "  if (!files) {\n",
              "    return {\n",
              "      response: {\n",
              "        action: 'complete',\n",
              "      }\n",
              "    };\n",
              "  }\n",
              "\n",
              "  for (const file of files) {\n",
              "    const li = document.createElement('li');\n",
              "    li.append(span(file.name, {fontWeight: 'bold'}));\n",
              "    li.append(span(\n",
              "        `(${file.type || 'n/a'}) - ${file.size} bytes, ` +\n",
              "        `last modified: ${\n",
              "            file.lastModifiedDate ? file.lastModifiedDate.toLocaleDateString() :\n",
              "                                    'n/a'} - `));\n",
              "    const percent = span('0% done');\n",
              "    li.appendChild(percent);\n",
              "\n",
              "    outputElement.appendChild(li);\n",
              "\n",
              "    const fileDataPromise = new Promise((resolve) => {\n",
              "      const reader = new FileReader();\n",
              "      reader.onload = (e) => {\n",
              "        resolve(e.target.result);\n",
              "      };\n",
              "      reader.readAsArrayBuffer(file);\n",
              "    });\n",
              "    // Wait for the data to be ready.\n",
              "    let fileData = yield {\n",
              "      promise: fileDataPromise,\n",
              "      response: {\n",
              "        action: 'continue',\n",
              "      }\n",
              "    };\n",
              "\n",
              "    // Use a chunked sending to avoid message size limits. See b/62115660.\n",
              "    let position = 0;\n",
              "    do {\n",
              "      const length = Math.min(fileData.byteLength - position, MAX_PAYLOAD_SIZE);\n",
              "      const chunk = new Uint8Array(fileData, position, length);\n",
              "      position += length;\n",
              "\n",
              "      const base64 = btoa(String.fromCharCode.apply(null, chunk));\n",
              "      yield {\n",
              "        response: {\n",
              "          action: 'append',\n",
              "          file: file.name,\n",
              "          data: base64,\n",
              "        },\n",
              "      };\n",
              "\n",
              "      let percentDone = fileData.byteLength === 0 ?\n",
              "          100 :\n",
              "          Math.round((position / fileData.byteLength) * 100);\n",
              "      percent.textContent = `${percentDone}% done`;\n",
              "\n",
              "    } while (position < fileData.byteLength);\n",
              "  }\n",
              "\n",
              "  // All done.\n",
              "  yield {\n",
              "    response: {\n",
              "      action: 'complete',\n",
              "    }\n",
              "  };\n",
              "}\n",
              "\n",
              "scope.google = scope.google || {};\n",
              "scope.google.colab = scope.google.colab || {};\n",
              "scope.google.colab._files = {\n",
              "  _uploadFiles,\n",
              "  _uploadFilesContinue,\n",
              "};\n",
              "})(self);\n",
              "</script> "
            ],
            "text/plain": [
              "<IPython.core.display.HTML object>"
            ]
          },
          "metadata": {},
          "output_type": "display_data"
        }
      ],
      "source": [
        "from google.colab import files\n",
        "import shutil\n",
        "\n",
        "upload_folder = 'upload/input'\n",
        "result_folder = 'upload/output'\n",
        "\n",
        "if os.path.isdir(upload_folder):\n",
        "    shutil.rmtree(upload_folder)\n",
        "if os.path.isdir(result_folder):\n",
        "    shutil.rmtree(result_folder)\n",
        "os.makedirs(upload_folder)\n",
        "os.makedirs(result_folder)\n",
        "\n",
        "# upload images\n",
        "uploaded = files.upload()\n",
        "for filename in uploaded.keys():\n",
        "  dst_path = os.path.join(upload_folder, filename)\n",
        "  print(f'move {filename} to {dst_path}')\n",
        "  shutil.move(filename, dst_path)"
      ]
    },
    {
      "cell_type": "code",
      "execution_count": null,
      "metadata": {
        "id": "ZvTFR-LKj9_6"
      },
      "outputs": [],
      "source": [
        "import glob\n",
        "input_list = sorted(glob.glob(os.path.join(upload_folder, '*')))\n",
        "for input_path in input_list:\n",
        "  img_input = imread(input_path)\n",
        "  restore_images(input_image, offsets_net, netG)"
      ]
    },
    {
      "cell_type": "code",
      "execution_count": null,
      "metadata": {
        "id": "78463DljnnCP"
      },
      "outputs": [],
      "source": []
    }
  ],
  "metadata": {
    "accelerator": "GPU",
    "colab": {
      "provenance": [],
      "include_colab_link": true
    },
    "gpuClass": "standard",
    "kernelspec": {
      "display_name": "Python 3",
      "language": "python",
      "name": "python3"
    },
    "language_info": {
      "codemirror_mode": {
        "name": "ipython",
        "version": 3
      },
      "file_extension": ".py",
      "mimetype": "text/x-python",
      "name": "python",
      "nbconvert_exporter": "python",
      "pygments_lexer": "ipython3",
      "version": "3.8.12"
    },
    "varInspector": {
      "cols": {
        "lenName": 16,
        "lenType": 16,
        "lenVar": 40
      },
      "kernels_config": {
        "python": {
          "delete_cmd_postfix": "",
          "delete_cmd_prefix": "del ",
          "library": "var_list.py",
          "varRefreshCmd": "print(var_dic_list())"
        },
        "r": {
          "delete_cmd_postfix": ") ",
          "delete_cmd_prefix": "rm(",
          "library": "var_list.r",
          "varRefreshCmd": "cat(var_dic_list()) "
        }
      },
      "types_to_exclude": [
        "module",
        "function",
        "builtin_function_or_method",
        "instance",
        "_Feature"
      ],
      "window_display": false
    }
  },
  "nbformat": 4,
  "nbformat_minor": 0
}